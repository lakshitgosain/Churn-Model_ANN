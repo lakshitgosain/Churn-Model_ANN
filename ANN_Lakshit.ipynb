{
 "cells": [
  {
   "cell_type": "code",
   "execution_count": 1,
   "metadata": {},
   "outputs": [],
   "source": [
    "import numpy as np\n",
    "import pandas as pd\n",
    "import matplotlib.pyplot as plt "
   ]
  },
  {
   "cell_type": "code",
   "execution_count": 2,
   "metadata": {},
   "outputs": [
    {
     "data": {
      "text/html": [
       "<div>\n",
       "<style scoped>\n",
       "    .dataframe tbody tr th:only-of-type {\n",
       "        vertical-align: middle;\n",
       "    }\n",
       "\n",
       "    .dataframe tbody tr th {\n",
       "        vertical-align: top;\n",
       "    }\n",
       "\n",
       "    .dataframe thead th {\n",
       "        text-align: right;\n",
       "    }\n",
       "</style>\n",
       "<table border=\"1\" class=\"dataframe\">\n",
       "  <thead>\n",
       "    <tr style=\"text-align: right;\">\n",
       "      <th></th>\n",
       "      <th>RowNumber</th>\n",
       "      <th>CustomerId</th>\n",
       "      <th>Surname</th>\n",
       "      <th>CreditScore</th>\n",
       "      <th>Geography</th>\n",
       "      <th>Gender</th>\n",
       "      <th>Age</th>\n",
       "      <th>Tenure</th>\n",
       "      <th>Balance</th>\n",
       "      <th>NumOfProducts</th>\n",
       "      <th>HasCrCard</th>\n",
       "      <th>IsActiveMember</th>\n",
       "      <th>EstimatedSalary</th>\n",
       "      <th>Exited</th>\n",
       "    </tr>\n",
       "  </thead>\n",
       "  <tbody>\n",
       "    <tr>\n",
       "      <th>0</th>\n",
       "      <td>1</td>\n",
       "      <td>15634602</td>\n",
       "      <td>Hargrave</td>\n",
       "      <td>619</td>\n",
       "      <td>France</td>\n",
       "      <td>Female</td>\n",
       "      <td>42</td>\n",
       "      <td>2</td>\n",
       "      <td>0.00</td>\n",
       "      <td>1</td>\n",
       "      <td>1</td>\n",
       "      <td>1</td>\n",
       "      <td>101348.88</td>\n",
       "      <td>1</td>\n",
       "    </tr>\n",
       "    <tr>\n",
       "      <th>1</th>\n",
       "      <td>2</td>\n",
       "      <td>15647311</td>\n",
       "      <td>Hill</td>\n",
       "      <td>608</td>\n",
       "      <td>Spain</td>\n",
       "      <td>Female</td>\n",
       "      <td>41</td>\n",
       "      <td>1</td>\n",
       "      <td>83807.86</td>\n",
       "      <td>1</td>\n",
       "      <td>0</td>\n",
       "      <td>1</td>\n",
       "      <td>112542.58</td>\n",
       "      <td>0</td>\n",
       "    </tr>\n",
       "    <tr>\n",
       "      <th>2</th>\n",
       "      <td>3</td>\n",
       "      <td>15619304</td>\n",
       "      <td>Onio</td>\n",
       "      <td>502</td>\n",
       "      <td>France</td>\n",
       "      <td>Female</td>\n",
       "      <td>42</td>\n",
       "      <td>8</td>\n",
       "      <td>159660.80</td>\n",
       "      <td>3</td>\n",
       "      <td>1</td>\n",
       "      <td>0</td>\n",
       "      <td>113931.57</td>\n",
       "      <td>1</td>\n",
       "    </tr>\n",
       "    <tr>\n",
       "      <th>3</th>\n",
       "      <td>4</td>\n",
       "      <td>15701354</td>\n",
       "      <td>Boni</td>\n",
       "      <td>699</td>\n",
       "      <td>France</td>\n",
       "      <td>Female</td>\n",
       "      <td>39</td>\n",
       "      <td>1</td>\n",
       "      <td>0.00</td>\n",
       "      <td>2</td>\n",
       "      <td>0</td>\n",
       "      <td>0</td>\n",
       "      <td>93826.63</td>\n",
       "      <td>0</td>\n",
       "    </tr>\n",
       "    <tr>\n",
       "      <th>4</th>\n",
       "      <td>5</td>\n",
       "      <td>15737888</td>\n",
       "      <td>Mitchell</td>\n",
       "      <td>850</td>\n",
       "      <td>Spain</td>\n",
       "      <td>Female</td>\n",
       "      <td>43</td>\n",
       "      <td>2</td>\n",
       "      <td>125510.82</td>\n",
       "      <td>1</td>\n",
       "      <td>1</td>\n",
       "      <td>1</td>\n",
       "      <td>79084.10</td>\n",
       "      <td>0</td>\n",
       "    </tr>\n",
       "    <tr>\n",
       "      <th>...</th>\n",
       "      <td>...</td>\n",
       "      <td>...</td>\n",
       "      <td>...</td>\n",
       "      <td>...</td>\n",
       "      <td>...</td>\n",
       "      <td>...</td>\n",
       "      <td>...</td>\n",
       "      <td>...</td>\n",
       "      <td>...</td>\n",
       "      <td>...</td>\n",
       "      <td>...</td>\n",
       "      <td>...</td>\n",
       "      <td>...</td>\n",
       "      <td>...</td>\n",
       "    </tr>\n",
       "    <tr>\n",
       "      <th>9995</th>\n",
       "      <td>9996</td>\n",
       "      <td>15606229</td>\n",
       "      <td>Obijiaku</td>\n",
       "      <td>771</td>\n",
       "      <td>France</td>\n",
       "      <td>Male</td>\n",
       "      <td>39</td>\n",
       "      <td>5</td>\n",
       "      <td>0.00</td>\n",
       "      <td>2</td>\n",
       "      <td>1</td>\n",
       "      <td>0</td>\n",
       "      <td>96270.64</td>\n",
       "      <td>0</td>\n",
       "    </tr>\n",
       "    <tr>\n",
       "      <th>9996</th>\n",
       "      <td>9997</td>\n",
       "      <td>15569892</td>\n",
       "      <td>Johnstone</td>\n",
       "      <td>516</td>\n",
       "      <td>France</td>\n",
       "      <td>Male</td>\n",
       "      <td>35</td>\n",
       "      <td>10</td>\n",
       "      <td>57369.61</td>\n",
       "      <td>1</td>\n",
       "      <td>1</td>\n",
       "      <td>1</td>\n",
       "      <td>101699.77</td>\n",
       "      <td>0</td>\n",
       "    </tr>\n",
       "    <tr>\n",
       "      <th>9997</th>\n",
       "      <td>9998</td>\n",
       "      <td>15584532</td>\n",
       "      <td>Liu</td>\n",
       "      <td>709</td>\n",
       "      <td>France</td>\n",
       "      <td>Female</td>\n",
       "      <td>36</td>\n",
       "      <td>7</td>\n",
       "      <td>0.00</td>\n",
       "      <td>1</td>\n",
       "      <td>0</td>\n",
       "      <td>1</td>\n",
       "      <td>42085.58</td>\n",
       "      <td>1</td>\n",
       "    </tr>\n",
       "    <tr>\n",
       "      <th>9998</th>\n",
       "      <td>9999</td>\n",
       "      <td>15682355</td>\n",
       "      <td>Sabbatini</td>\n",
       "      <td>772</td>\n",
       "      <td>Germany</td>\n",
       "      <td>Male</td>\n",
       "      <td>42</td>\n",
       "      <td>3</td>\n",
       "      <td>75075.31</td>\n",
       "      <td>2</td>\n",
       "      <td>1</td>\n",
       "      <td>0</td>\n",
       "      <td>92888.52</td>\n",
       "      <td>1</td>\n",
       "    </tr>\n",
       "    <tr>\n",
       "      <th>9999</th>\n",
       "      <td>10000</td>\n",
       "      <td>15628319</td>\n",
       "      <td>Walker</td>\n",
       "      <td>792</td>\n",
       "      <td>France</td>\n",
       "      <td>Female</td>\n",
       "      <td>28</td>\n",
       "      <td>4</td>\n",
       "      <td>130142.79</td>\n",
       "      <td>1</td>\n",
       "      <td>1</td>\n",
       "      <td>0</td>\n",
       "      <td>38190.78</td>\n",
       "      <td>0</td>\n",
       "    </tr>\n",
       "  </tbody>\n",
       "</table>\n",
       "<p>10000 rows × 14 columns</p>\n",
       "</div>"
      ],
      "text/plain": [
       "      RowNumber  CustomerId    Surname  CreditScore Geography  Gender  Age  \\\n",
       "0             1    15634602   Hargrave          619    France  Female   42   \n",
       "1             2    15647311       Hill          608     Spain  Female   41   \n",
       "2             3    15619304       Onio          502    France  Female   42   \n",
       "3             4    15701354       Boni          699    France  Female   39   \n",
       "4             5    15737888   Mitchell          850     Spain  Female   43   \n",
       "...         ...         ...        ...          ...       ...     ...  ...   \n",
       "9995       9996    15606229   Obijiaku          771    France    Male   39   \n",
       "9996       9997    15569892  Johnstone          516    France    Male   35   \n",
       "9997       9998    15584532        Liu          709    France  Female   36   \n",
       "9998       9999    15682355  Sabbatini          772   Germany    Male   42   \n",
       "9999      10000    15628319     Walker          792    France  Female   28   \n",
       "\n",
       "      Tenure    Balance  NumOfProducts  HasCrCard  IsActiveMember  \\\n",
       "0          2       0.00              1          1               1   \n",
       "1          1   83807.86              1          0               1   \n",
       "2          8  159660.80              3          1               0   \n",
       "3          1       0.00              2          0               0   \n",
       "4          2  125510.82              1          1               1   \n",
       "...      ...        ...            ...        ...             ...   \n",
       "9995       5       0.00              2          1               0   \n",
       "9996      10   57369.61              1          1               1   \n",
       "9997       7       0.00              1          0               1   \n",
       "9998       3   75075.31              2          1               0   \n",
       "9999       4  130142.79              1          1               0   \n",
       "\n",
       "      EstimatedSalary  Exited  \n",
       "0           101348.88       1  \n",
       "1           112542.58       0  \n",
       "2           113931.57       1  \n",
       "3            93826.63       0  \n",
       "4            79084.10       0  \n",
       "...               ...     ...  \n",
       "9995         96270.64       0  \n",
       "9996        101699.77       0  \n",
       "9997         42085.58       1  \n",
       "9998         92888.52       1  \n",
       "9999         38190.78       0  \n",
       "\n",
       "[10000 rows x 14 columns]"
      ]
     },
     "execution_count": 2,
     "metadata": {},
     "output_type": "execute_result"
    }
   ],
   "source": [
    "dataset=pd.read_csv('Churn_Modelling.csv')\n",
    "dataset"
   ]
  },
  {
   "cell_type": "code",
   "execution_count": 3,
   "metadata": {},
   "outputs": [],
   "source": [
    "X=np.array(dataset.drop(['Exited','CustomerId','Surname','RowNumber'],axis=1))"
   ]
  },
  {
   "cell_type": "code",
   "execution_count": 4,
   "metadata": {},
   "outputs": [
    {
     "data": {
      "text/plain": [
       "(10000, 10)"
      ]
     },
     "execution_count": 4,
     "metadata": {},
     "output_type": "execute_result"
    }
   ],
   "source": [
    "X.shape"
   ]
  },
  {
   "cell_type": "code",
   "execution_count": 5,
   "metadata": {},
   "outputs": [],
   "source": [
    "Y=np.array(dataset['Exited'])"
   ]
  },
  {
   "cell_type": "code",
   "execution_count": 6,
   "metadata": {},
   "outputs": [
    {
     "data": {
      "text/plain": [
       "array([1, 0, 1, ..., 1, 1, 0], dtype=int64)"
      ]
     },
     "execution_count": 6,
     "metadata": {},
     "output_type": "execute_result"
    }
   ],
   "source": [
    "Y"
   ]
  },
  {
   "cell_type": "code",
   "execution_count": 7,
   "metadata": {},
   "outputs": [],
   "source": [
    "from sklearn.preprocessing import LabelEncoder,OneHotEncoder\n",
    "labelencoder_X=LabelEncoder()\n",
    "X[:,1]=labelencoder_X.fit_transform(X[:,1])\n",
    "\n",
    "labelencoder_X_2=LabelEncoder()\n",
    "X[:,2]=labelencoder_X_2.fit_transform(X[:,2])\n",
    "\n",
    "#onehotencoder=OneHotEncoder(categorical_features=[1])\n",
    "#X=onehotencoder"
   ]
  },
  {
   "cell_type": "code",
   "execution_count": 8,
   "metadata": {},
   "outputs": [
    {
     "data": {
      "text/plain": [
       "array([[619, 0, 0, ..., 1, 1, 101348.88],\n",
       "       [608, 2, 0, ..., 0, 1, 112542.58],\n",
       "       [502, 0, 0, ..., 1, 0, 113931.57],\n",
       "       ...,\n",
       "       [709, 0, 0, ..., 0, 1, 42085.58],\n",
       "       [772, 1, 1, ..., 1, 0, 92888.52],\n",
       "       [792, 0, 0, ..., 1, 0, 38190.78]], dtype=object)"
      ]
     },
     "execution_count": 8,
     "metadata": {},
     "output_type": "execute_result"
    }
   ],
   "source": [
    "X"
   ]
  },
  {
   "cell_type": "code",
   "execution_count": 9,
   "metadata": {},
   "outputs": [],
   "source": [
    "from sklearn.compose import ColumnTransformer\n",
    "coltransformer=ColumnTransformer([('encoder',OneHotEncoder(),[1])],remainder='passthrough')"
   ]
  },
  {
   "cell_type": "code",
   "execution_count": 10,
   "metadata": {},
   "outputs": [],
   "source": [
    "X=coltransformer.fit_transform(X)"
   ]
  },
  {
   "cell_type": "code",
   "execution_count": 11,
   "metadata": {},
   "outputs": [
    {
     "data": {
      "text/plain": [
       "(10000, 12)"
      ]
     },
     "execution_count": 11,
     "metadata": {},
     "output_type": "execute_result"
    }
   ],
   "source": [
    "X.shape"
   ]
  },
  {
   "cell_type": "code",
   "execution_count": 12,
   "metadata": {},
   "outputs": [],
   "source": [
    "X = X[:, 1:]"
   ]
  },
  {
   "cell_type": "code",
   "execution_count": 13,
   "metadata": {},
   "outputs": [
    {
     "name": "stdout",
     "output_type": "stream",
     "text": [
      "[[0.0 0.0 619 ... 1 1 101348.88]\n",
      " [0.0 1.0 608 ... 0 1 112542.58]\n",
      " [0.0 0.0 502 ... 1 0 113931.57]\n",
      " ...\n",
      " [0.0 0.0 709 ... 0 1 42085.58]\n",
      " [1.0 0.0 772 ... 1 0 92888.52]\n",
      " [0.0 0.0 792 ... 1 0 38190.78]]\n"
     ]
    }
   ],
   "source": [
    "print(X)"
   ]
  },
  {
   "cell_type": "code",
   "execution_count": 14,
   "metadata": {},
   "outputs": [],
   "source": [
    "from sklearn.model_selection import train_test_split"
   ]
  },
  {
   "cell_type": "code",
   "execution_count": 15,
   "metadata": {},
   "outputs": [],
   "source": [
    "X_train,X_test,y_train,y_test=train_test_split(X,Y,test_size=0.2,random_state=0)"
   ]
  },
  {
   "cell_type": "code",
   "execution_count": null,
   "metadata": {},
   "outputs": [],
   "source": []
  },
  {
   "cell_type": "code",
   "execution_count": 16,
   "metadata": {},
   "outputs": [],
   "source": [
    "from sklearn.preprocessing import StandardScaler"
   ]
  },
  {
   "cell_type": "code",
   "execution_count": 17,
   "metadata": {},
   "outputs": [],
   "source": [
    "sc=StandardScaler()"
   ]
  },
  {
   "cell_type": "code",
   "execution_count": 18,
   "metadata": {},
   "outputs": [],
   "source": [
    "X_train=sc.fit_transform(X_train)"
   ]
  },
  {
   "cell_type": "code",
   "execution_count": 19,
   "metadata": {},
   "outputs": [],
   "source": [
    "X_test=sc.fit_transform(X_test)"
   ]
  },
  {
   "cell_type": "code",
   "execution_count": null,
   "metadata": {},
   "outputs": [],
   "source": []
  },
  {
   "cell_type": "code",
   "execution_count": null,
   "metadata": {},
   "outputs": [],
   "source": []
  },
  {
   "cell_type": "markdown",
   "metadata": {},
   "source": [
    "            Step 3- Let's Make an ANN"
   ]
  },
  {
   "cell_type": "code",
   "execution_count": 20,
   "metadata": {},
   "outputs": [
    {
     "name": "stderr",
     "output_type": "stream",
     "text": [
      "Using TensorFlow backend.\n"
     ]
    }
   ],
   "source": [
    "import keras "
   ]
  },
  {
   "cell_type": "markdown",
   "metadata": {},
   "source": [
    "import sequentia- initaize Neural Network and dense module that is required to build layer of our ANN"
   ]
  },
  {
   "cell_type": "code",
   "execution_count": 21,
   "metadata": {},
   "outputs": [],
   "source": [
    "from keras.models import Sequential\n",
    "from keras.layers import Dense"
   ]
  },
  {
   "cell_type": "code",
   "execution_count": 22,
   "metadata": {},
   "outputs": [],
   "source": [
    "#Initializing the ANN- definging it as a sequence af layers. Either by defining the sequence of layers or either by defining the graph"
   ]
  },
  {
   "cell_type": "code",
   "execution_count": 23,
   "metadata": {},
   "outputs": [],
   "source": [
    "#initializing ANN by sequence of layers"
   ]
  },
  {
   "cell_type": "code",
   "execution_count": 24,
   "metadata": {},
   "outputs": [],
   "source": [
    "#Since our problem was of classification, our Neureal net will play the role of a classifier."
   ]
  },
  {
   "cell_type": "code",
   "execution_count": 25,
   "metadata": {},
   "outputs": [],
   "source": [
    "classifier=Sequential()"
   ]
  },
  {
   "cell_type": "code",
   "execution_count": 26,
   "metadata": {},
   "outputs": [],
   "source": [
    "#We are now ready to add different layers to the ANN we just initialized"
   ]
  },
  {
   "cell_type": "code",
   "execution_count": null,
   "metadata": {},
   "outputs": [],
   "source": []
  },
  {
   "cell_type": "code",
   "execution_count": 27,
   "metadata": {},
   "outputs": [],
   "source": [
    "#Step 5"
   ]
  },
  {
   "cell_type": "code",
   "execution_count": 28,
   "metadata": {},
   "outputs": [],
   "source": [
    "#We will now add input layer and hidden layers"
   ]
  },
  {
   "cell_type": "code",
   "execution_count": 29,
   "metadata": {},
   "outputs": [],
   "source": [
    "# We will use Rectifier Activation Function for the input hidden layer and Sigmoif Function for the Output layer\n"
   ]
  },
  {
   "cell_type": "code",
   "execution_count": 30,
   "metadata": {},
   "outputs": [],
   "source": [
    "#The rate by which the weights are updated are known as the Learning Rate"
   ]
  },
  {
   "cell_type": "code",
   "execution_count": null,
   "metadata": {},
   "outputs": [],
   "source": []
  },
  {
   "cell_type": "code",
   "execution_count": null,
   "metadata": {},
   "outputs": [],
   "source": []
  },
  {
   "cell_type": "code",
   "execution_count": 31,
   "metadata": {},
   "outputs": [],
   "source": [
    "#Adding the input layer and first hidden layer. Dense Funcition helps us define which activation fuction we will use and how any i/p & Hidden layers we need to add and how the w=eights are updated"
   ]
  },
  {
   "cell_type": "code",
   "execution_count": 32,
   "metadata": {},
   "outputs": [
    {
     "name": "stderr",
     "output_type": "stream",
     "text": [
      "C:\\Users\\LaKgos01\\Anaconda3\\lib\\site-packages\\ipykernel_launcher.py:1: UserWarning: Update your `Dense` call to the Keras 2 API: `Dense(activation=\"relu\", input_dim=11, units=6, kernel_initializer=\"uniform\")`\n",
      "  \"\"\"Entry point for launching an IPython kernel.\n"
     ]
    }
   ],
   "source": [
    "classifier.add(Dense(output_dim=6,init='uniform',activation='relu',input_dim=11))"
   ]
  },
  {
   "cell_type": "code",
   "execution_count": 33,
   "metadata": {},
   "outputs": [],
   "source": [
    "#Output_dim is the number of nodes you want to add to the Hidden layer\n",
    "#There is no rule of thumb on deciding how many nodes we want to add to the hidden layer.\n",
    "#Tip= choose the number of nodes in the hidden layer as the avg of number of nodes in the input layer and the number of nodes in th eoutput layer. We can also experiment using parameter tuning"
   ]
  },
  {
   "cell_type": "code",
   "execution_count": 34,
   "metadata": {},
   "outputs": [],
   "source": [
    "#init parameter is the step 1 in sthocastic gradint descent i.e. to randomly initlaize the weight to something close to 0 but not 0\n",
    "#Actication- It is the activation function we need to use in the hidden layer\n",
    "\n",
    "#input_dim= number of nodes in the imput layer. We will not need to specify if we are creating further hidden layers, since the first hidden layer will already be created, the next hidden layer will know what to expect/\n"
   ]
  },
  {
   "cell_type": "code",
   "execution_count": null,
   "metadata": {},
   "outputs": [],
   "source": []
  },
  {
   "cell_type": "code",
   "execution_count": null,
   "metadata": {},
   "outputs": [],
   "source": []
  },
  {
   "cell_type": "markdown",
   "metadata": {},
   "source": [
    "Step 6"
   ]
  },
  {
   "cell_type": "code",
   "execution_count": 35,
   "metadata": {},
   "outputs": [],
   "source": [
    "#We are now going to add the second hidden layer"
   ]
  },
  {
   "cell_type": "code",
   "execution_count": 36,
   "metadata": {},
   "outputs": [
    {
     "name": "stderr",
     "output_type": "stream",
     "text": [
      "C:\\Users\\LaKgos01\\Anaconda3\\lib\\site-packages\\ipykernel_launcher.py:1: UserWarning: Update your `Dense` call to the Keras 2 API: `Dense(activation=\"relu\", units=6, kernel_initializer=\"uniform\")`\n",
      "  \"\"\"Entry point for launching an IPython kernel.\n"
     ]
    }
   ],
   "source": [
    "classifier.add(Dense(output_dim=6,init='uniform',activation='relu'))\n",
    "#As this is the second hidden layer, we do not need to add the parameter input_din, as it knows what to expect from the previous hidden layer"
   ]
  },
  {
   "cell_type": "code",
   "execution_count": null,
   "metadata": {},
   "outputs": [],
   "source": []
  },
  {
   "cell_type": "code",
   "execution_count": null,
   "metadata": {},
   "outputs": [],
   "source": []
  },
  {
   "cell_type": "markdown",
   "metadata": {},
   "source": [
    "Step 7\n"
   ]
  },
  {
   "cell_type": "code",
   "execution_count": 37,
   "metadata": {},
   "outputs": [],
   "source": [
    "#We have till now added 3 layers. We will now add output layer"
   ]
  },
  {
   "cell_type": "code",
   "execution_count": 38,
   "metadata": {},
   "outputs": [
    {
     "name": "stderr",
     "output_type": "stream",
     "text": [
      "C:\\Users\\LaKgos01\\Anaconda3\\lib\\site-packages\\ipykernel_launcher.py:1: UserWarning: Update your `Dense` call to the Keras 2 API: `Dense(activation=\"sigmoid\", units=1, kernel_initializer=\"uniform\")`\n",
      "  \"\"\"Entry point for launching an IPython kernel.\n"
     ]
    }
   ],
   "source": [
    "classifier.add(Dense(output_dim=1,init='uniform',activation='sigmoid'))\n",
    "# we might want to have a different Activation function if we have more than 2 outcomes as the sigmoid fuction works on Probabilty"
   ]
  },
  {
   "cell_type": "code",
   "execution_count": null,
   "metadata": {},
   "outputs": [],
   "source": []
  },
  {
   "cell_type": "code",
   "execution_count": null,
   "metadata": {},
   "outputs": [],
   "source": []
  },
  {
   "cell_type": "markdown",
   "metadata": {},
   "source": [
    "Step 8"
   ]
  },
  {
   "cell_type": "code",
   "execution_count": 39,
   "metadata": {},
   "outputs": [],
   "source": [
    "#Compile the ANN- i.e. applying Gradient Descent"
   ]
  },
  {
   "cell_type": "code",
   "execution_count": 40,
   "metadata": {},
   "outputs": [],
   "source": [
    "classifier.compile(optimizer='adam',loss='binary_crossentropy',metrics=['accuracy'])"
   ]
  },
  {
   "cell_type": "code",
   "execution_count": 41,
   "metadata": {},
   "outputs": [],
   "source": [
    "#optimizer is the algorithm which will help in finding the best weights....this is nothing more than Stochastic gradient descent.\n",
    "#Loss- Cost function of loss function...If the dependent variable has 2 outcomes, then it is called binary_crossentropy and if there are more than 2 outcomes, it will be categorical_crossentropy.\n",
    "#metrics-critirion to evaluate the model......to improve the models performance."
   ]
  },
  {
   "cell_type": "code",
   "execution_count": null,
   "metadata": {},
   "outputs": [],
   "source": []
  },
  {
   "cell_type": "code",
   "execution_count": null,
   "metadata": {},
   "outputs": [],
   "source": []
  },
  {
   "cell_type": "markdown",
   "metadata": {},
   "source": [
    "#Setp 9 "
   ]
  },
  {
   "cell_type": "code",
   "execution_count": 42,
   "metadata": {},
   "outputs": [],
   "source": [
    "#We will see the ANN in action and fit the ANN to the Training set"
   ]
  },
  {
   "cell_type": "code",
   "execution_count": 43,
   "metadata": {},
   "outputs": [
    {
     "name": "stdout",
     "output_type": "stream",
     "text": [
      "Epoch 1/100\n",
      "8000/8000 [==============================] - 1s 157us/step - loss: 0.4948 - accuracy: 0.7954\n",
      "Epoch 2/100\n",
      "8000/8000 [==============================] - 1s 129us/step - loss: 0.4280 - accuracy: 0.7960\n",
      "Epoch 3/100\n",
      "8000/8000 [==============================] - 1s 133us/step - loss: 0.4234 - accuracy: 0.7960\n",
      "Epoch 4/100\n",
      "8000/8000 [==============================] - 1s 123us/step - loss: 0.4193 - accuracy: 0.8086\n",
      "Epoch 5/100\n",
      "8000/8000 [==============================] - 1s 128us/step - loss: 0.4159 - accuracy: 0.8256\n",
      "Epoch 6/100\n",
      "8000/8000 [==============================] - 1s 129us/step - loss: 0.4143 - accuracy: 0.8296\n",
      "Epoch 7/100\n",
      "8000/8000 [==============================] - 1s 121us/step - loss: 0.4127 - accuracy: 0.8325\n",
      "Epoch 8/100\n",
      "8000/8000 [==============================] - 1s 119us/step - loss: 0.4115 - accuracy: 0.8319\n",
      "Epoch 9/100\n",
      "8000/8000 [==============================] - 1s 123us/step - loss: 0.4106 - accuracy: 0.8322\n",
      "Epoch 10/100\n",
      "8000/8000 [==============================] - 1s 125us/step - loss: 0.4097 - accuracy: 0.8332\n",
      "Epoch 11/100\n",
      "8000/8000 [==============================] - 1s 128us/step - loss: 0.4088 - accuracy: 0.8332\n",
      "Epoch 12/100\n",
      "8000/8000 [==============================] - 1s 130us/step - loss: 0.4081 - accuracy: 0.8350\n",
      "Epoch 13/100\n",
      "8000/8000 [==============================] - 1s 168us/step - loss: 0.4076 - accuracy: 0.8347\n",
      "Epoch 14/100\n",
      "8000/8000 [==============================] - 1s 153us/step - loss: 0.4068 - accuracy: 0.8342\n",
      "Epoch 15/100\n",
      "8000/8000 [==============================] - 1s 124us/step - loss: 0.4063 - accuracy: 0.8357\n",
      "Epoch 16/100\n",
      "8000/8000 [==============================] - 1s 127us/step - loss: 0.4054 - accuracy: 0.8355\n",
      "Epoch 17/100\n",
      "8000/8000 [==============================] - 1s 125us/step - loss: 0.4050 - accuracy: 0.8369\n",
      "Epoch 18/100\n",
      "8000/8000 [==============================] - 1s 142us/step - loss: 0.4040 - accuracy: 0.8356\n",
      "Epoch 19/100\n",
      "8000/8000 [==============================] - 1s 125us/step - loss: 0.4035 - accuracy: 0.8357\n",
      "Epoch 20/100\n",
      "8000/8000 [==============================] - 1s 134us/step - loss: 0.4031 - accuracy: 0.8354\n",
      "Epoch 21/100\n",
      "8000/8000 [==============================] - 1s 128us/step - loss: 0.4030 - accuracy: 0.8359\n",
      "Epoch 22/100\n",
      "8000/8000 [==============================] - 1s 122us/step - loss: 0.4024 - accuracy: 0.8355\n",
      "Epoch 23/100\n",
      "8000/8000 [==============================] - 1s 122us/step - loss: 0.4017 - accuracy: 0.8359\n",
      "Epoch 24/100\n",
      "8000/8000 [==============================] - 1s 127us/step - loss: 0.4014 - accuracy: 0.8363\n",
      "Epoch 25/100\n",
      "8000/8000 [==============================] - 1s 152us/step - loss: 0.4016 - accuracy: 0.8357\n",
      "Epoch 26/100\n",
      "8000/8000 [==============================] - 1s 135us/step - loss: 0.4012 - accuracy: 0.8367\n",
      "Epoch 27/100\n",
      "8000/8000 [==============================] - 1s 130us/step - loss: 0.4011 - accuracy: 0.8369\n",
      "Epoch 28/100\n",
      "8000/8000 [==============================] - 1s 170us/step - loss: 0.4008 - accuracy: 0.8385\n",
      "Epoch 29/100\n",
      "8000/8000 [==============================] - 1s 155us/step - loss: 0.4006 - accuracy: 0.8372\n",
      "Epoch 30/100\n",
      "8000/8000 [==============================] - 1s 144us/step - loss: 0.4004 - accuracy: 0.8370\n",
      "Epoch 31/100\n",
      "8000/8000 [==============================] - 1s 128us/step - loss: 0.4005 - accuracy: 0.8372\n",
      "Epoch 32/100\n",
      "8000/8000 [==============================] - 1s 132us/step - loss: 0.4001 - accuracy: 0.8378\n",
      "Epoch 33/100\n",
      "8000/8000 [==============================] - 1s 152us/step - loss: 0.4002 - accuracy: 0.8366\n",
      "Epoch 34/100\n",
      "8000/8000 [==============================] - 1s 138us/step - loss: 0.3997 - accuracy: 0.8376\n",
      "Epoch 35/100\n",
      "8000/8000 [==============================] - 1s 136us/step - loss: 0.3996 - accuracy: 0.8366\n",
      "Epoch 36/100\n",
      "8000/8000 [==============================] - 1s 133us/step - loss: 0.3997 - accuracy: 0.8372\n",
      "Epoch 37/100\n",
      "8000/8000 [==============================] - 1s 136us/step - loss: 0.3997 - accuracy: 0.8376\n",
      "Epoch 38/100\n",
      "8000/8000 [==============================] - 1s 134us/step - loss: 0.3990 - accuracy: 0.8371\n",
      "Epoch 39/100\n",
      "8000/8000 [==============================] - 1s 126us/step - loss: 0.3994 - accuracy: 0.8367\n",
      "Epoch 40/100\n",
      "8000/8000 [==============================] - 1s 128us/step - loss: 0.3990 - accuracy: 0.8374\n",
      "Epoch 41/100\n",
      "8000/8000 [==============================] - 1s 129us/step - loss: 0.3993 - accuracy: 0.8366\n",
      "Epoch 42/100\n",
      "8000/8000 [==============================] - 1s 156us/step - loss: 0.3991 - accuracy: 0.8364\n",
      "Epoch 43/100\n",
      "8000/8000 [==============================] - 1s 170us/step - loss: 0.3989 - accuracy: 0.8369\n",
      "Epoch 44/100\n",
      "8000/8000 [==============================] - 1s 129us/step - loss: 0.3996 - accuracy: 0.8370\n",
      "Epoch 45/100\n",
      "8000/8000 [==============================] - 1s 131us/step - loss: 0.3991 - accuracy: 0.8366\n",
      "Epoch 46/100\n",
      "8000/8000 [==============================] - 1s 125us/step - loss: 0.3991 - accuracy: 0.8364\n",
      "Epoch 47/100\n",
      "8000/8000 [==============================] - 1s 133us/step - loss: 0.3990 - accuracy: 0.8371\n",
      "Epoch 48/100\n",
      "8000/8000 [==============================] - 1s 174us/step - loss: 0.3987 - accuracy: 0.8364\n",
      "Epoch 49/100\n",
      "8000/8000 [==============================] - 1s 150us/step - loss: 0.3988 - accuracy: 0.8370\n",
      "Epoch 50/100\n",
      "8000/8000 [==============================] - 1s 122us/step - loss: 0.3987 - accuracy: 0.8359\n",
      "Epoch 51/100\n",
      "8000/8000 [==============================] - 1s 121us/step - loss: 0.3986 - accuracy: 0.8367\n",
      "Epoch 52/100\n",
      "8000/8000 [==============================] - 1s 125us/step - loss: 0.3982 - accuracy: 0.8372\n",
      "Epoch 53/100\n",
      "8000/8000 [==============================] - 1s 127us/step - loss: 0.3982 - accuracy: 0.8366\n",
      "Epoch 54/100\n",
      "8000/8000 [==============================] - 1s 135us/step - loss: 0.3983 - accuracy: 0.8374\n",
      "Epoch 55/100\n",
      "8000/8000 [==============================] - 1s 124us/step - loss: 0.3983 - accuracy: 0.8379\n",
      "Epoch 56/100\n",
      "8000/8000 [==============================] - 1s 139us/step - loss: 0.3983 - accuracy: 0.8393\n",
      "Epoch 57/100\n",
      "8000/8000 [==============================] - 2s 245us/step - loss: 0.3982 - accuracy: 0.8379\n",
      "Epoch 58/100\n",
      "8000/8000 [==============================] - 2s 272us/step - loss: 0.3984 - accuracy: 0.8374\n",
      "Epoch 59/100\n",
      "8000/8000 [==============================] - 1s 138us/step - loss: 0.3980 - accuracy: 0.8360\n",
      "Epoch 60/100\n",
      "8000/8000 [==============================] - 1s 167us/step - loss: 0.3979 - accuracy: 0.8382\n",
      "Epoch 61/100\n",
      "8000/8000 [==============================] - 1s 145us/step - loss: 0.3984 - accuracy: 0.8374\n",
      "Epoch 62/100\n",
      "8000/8000 [==============================] - 1s 137us/step - loss: 0.3975 - accuracy: 0.8382\n",
      "Epoch 63/100\n",
      "8000/8000 [==============================] - 1s 137us/step - loss: 0.3977 - accuracy: 0.8382\n",
      "Epoch 64/100\n",
      "8000/8000 [==============================] - 1s 136us/step - loss: 0.3977 - accuracy: 0.8375\n",
      "Epoch 65/100\n",
      "8000/8000 [==============================] - 1s 135us/step - loss: 0.3979 - accuracy: 0.8391\n",
      "Epoch 66/100\n",
      "8000/8000 [==============================] - 1s 133us/step - loss: 0.3975 - accuracy: 0.8381\n",
      "Epoch 67/100\n",
      "8000/8000 [==============================] - 1s 140us/step - loss: 0.3978 - accuracy: 0.8372\n",
      "Epoch 68/100\n",
      "8000/8000 [==============================] - 1s 135us/step - loss: 0.3976 - accuracy: 0.8385\n",
      "Epoch 69/100\n",
      "8000/8000 [==============================] - 1s 162us/step - loss: 0.3976 - accuracy: 0.8355\n",
      "Epoch 70/100\n",
      "8000/8000 [==============================] - 1s 184us/step - loss: 0.3974 - accuracy: 0.8366\n",
      "Epoch 71/100\n",
      "8000/8000 [==============================] - 1s 150us/step - loss: 0.3974 - accuracy: 0.8375\n",
      "Epoch 72/100\n",
      "8000/8000 [==============================] - 1s 135us/step - loss: 0.3971 - accuracy: 0.8384\n",
      "Epoch 73/100\n",
      "8000/8000 [==============================] - 1s 134us/step - loss: 0.3970 - accuracy: 0.8378\n",
      "Epoch 74/100\n",
      "8000/8000 [==============================] - 1s 132us/step - loss: 0.3969 - accuracy: 0.8374\n",
      "Epoch 75/100\n",
      "8000/8000 [==============================] - 1s 143us/step - loss: 0.3968 - accuracy: 0.8380\n",
      "Epoch 76/100\n",
      "8000/8000 [==============================] - 1s 149us/step - loss: 0.3968 - accuracy: 0.8378\n",
      "Epoch 77/100\n",
      "8000/8000 [==============================] - 1s 133us/step - loss: 0.3966 - accuracy: 0.8367\n",
      "Epoch 78/100\n"
     ]
    },
    {
     "name": "stdout",
     "output_type": "stream",
     "text": [
      "8000/8000 [==============================] - 1s 124us/step - loss: 0.3964 - accuracy: 0.8370\n",
      "Epoch 79/100\n",
      "8000/8000 [==============================] - 1s 123us/step - loss: 0.3961 - accuracy: 0.8370\n",
      "Epoch 80/100\n",
      "8000/8000 [==============================] - 1s 122us/step - loss: 0.3962 - accuracy: 0.8388\n",
      "Epoch 81/100\n",
      "8000/8000 [==============================] - 1s 117us/step - loss: 0.3964 - accuracy: 0.8388\n",
      "Epoch 82/100\n",
      "8000/8000 [==============================] - 1s 127us/step - loss: 0.3964 - accuracy: 0.8375\n",
      "Epoch 83/100\n",
      "8000/8000 [==============================] - 1s 123us/step - loss: 0.3960 - accuracy: 0.8389\n",
      "Epoch 84/100\n",
      "8000/8000 [==============================] - 1s 176us/step - loss: 0.3962 - accuracy: 0.8397\n",
      "Epoch 85/100\n",
      "8000/8000 [==============================] - 1s 157us/step - loss: 0.3957 - accuracy: 0.8386\n",
      "Epoch 86/100\n",
      "8000/8000 [==============================] - 1s 128us/step - loss: 0.3954 - accuracy: 0.8370\n",
      "Epoch 87/100\n",
      "8000/8000 [==============================] - 1s 142us/step - loss: 0.3955 - accuracy: 0.8388\n",
      "Epoch 88/100\n",
      "8000/8000 [==============================] - 1s 126us/step - loss: 0.3957 - accuracy: 0.8374\n",
      "Epoch 89/100\n",
      "8000/8000 [==============================] - 1s 136us/step - loss: 0.3952 - accuracy: 0.8385\n",
      "Epoch 90/100\n",
      "8000/8000 [==============================] - 1s 136us/step - loss: 0.3949 - accuracy: 0.8389\n",
      "Epoch 91/100\n",
      "8000/8000 [==============================] - 1s 133us/step - loss: 0.3949 - accuracy: 0.8400\n",
      "Epoch 92/100\n",
      "8000/8000 [==============================] - 1s 121us/step - loss: 0.3941 - accuracy: 0.8375\n",
      "Epoch 93/100\n",
      "8000/8000 [==============================] - 1s 130us/step - loss: 0.3945 - accuracy: 0.8381\n",
      "Epoch 94/100\n",
      "8000/8000 [==============================] - 1s 130us/step - loss: 0.3944 - accuracy: 0.8389\n",
      "Epoch 95/100\n",
      "8000/8000 [==============================] - 1s 124us/step - loss: 0.3944 - accuracy: 0.8388\n",
      "Epoch 96/100\n",
      "8000/8000 [==============================] - 1s 122us/step - loss: 0.3928 - accuracy: 0.8393\n",
      "Epoch 97/100\n",
      "8000/8000 [==============================] - 1s 122us/step - loss: 0.3908 - accuracy: 0.8394\n",
      "Epoch 98/100\n",
      "8000/8000 [==============================] - 1s 133us/step - loss: 0.3858 - accuracy: 0.8404\n",
      "Epoch 99/100\n",
      "8000/8000 [==============================] - 1s 168us/step - loss: 0.3773 - accuracy: 0.8420\n",
      "Epoch 100/100\n",
      "8000/8000 [==============================] - 1s 141us/step - loss: 0.3686 - accuracy: 0.8481\n"
     ]
    },
    {
     "data": {
      "text/plain": [
       "<keras.callbacks.callbacks.History at 0x2287d9e0a48>"
      ]
     },
     "execution_count": 43,
     "metadata": {},
     "output_type": "execute_result"
    }
   ],
   "source": [
    "classifier.fit(X_train,y_train,batch_size=10,epochs=100)"
   ]
  },
  {
   "cell_type": "code",
   "execution_count": 44,
   "metadata": {},
   "outputs": [],
   "source": [
    "#batch_size= the number of repetitions after which the weights would be updated.\n",
    "#epoch= th enumber of epochs(different Rounds)"
   ]
  },
  {
   "cell_type": "code",
   "execution_count": null,
   "metadata": {},
   "outputs": [],
   "source": []
  },
  {
   "cell_type": "code",
   "execution_count": null,
   "metadata": {},
   "outputs": [],
   "source": []
  },
  {
   "cell_type": "markdown",
   "metadata": {},
   "source": [
    "Step 10 "
   ]
  },
  {
   "cell_type": "code",
   "execution_count": 45,
   "metadata": {},
   "outputs": [],
   "source": [
    "#predict the Test set results.\n",
    "# THe back can use the data to get the top 10% of people who could leave the bank"
   ]
  },
  {
   "cell_type": "code",
   "execution_count": 46,
   "metadata": {},
   "outputs": [],
   "source": [
    "y_pred=classifier.predict(X_test)\n",
    "y_pred=(y_pred>0.5)# to make the results in either true or false....True if >0.5 otherwise alse"
   ]
  },
  {
   "cell_type": "code",
   "execution_count": 47,
   "metadata": {},
   "outputs": [],
   "source": [
    "from sklearn.metrics import confusion_matrix"
   ]
  },
  {
   "cell_type": "code",
   "execution_count": 48,
   "metadata": {},
   "outputs": [],
   "source": [
    "cm=confusion_matrix(y_test,y_pred)"
   ]
  },
  {
   "cell_type": "code",
   "execution_count": 49,
   "metadata": {},
   "outputs": [
    {
     "data": {
      "text/plain": [
       "array([[1512,   83],\n",
       "       [ 215,  190]], dtype=int64)"
      ]
     },
     "execution_count": 49,
     "metadata": {},
     "output_type": "execute_result"
    }
   ],
   "source": [
    "cm"
   ]
  },
  {
   "cell_type": "code",
   "execution_count": null,
   "metadata": {},
   "outputs": [],
   "source": []
  },
  {
   "cell_type": "code",
   "execution_count": null,
   "metadata": {},
   "outputs": [],
   "source": []
  },
  {
   "cell_type": "code",
   "execution_count": 50,
   "metadata": {},
   "outputs": [],
   "source": [
    "customer=[]"
   ]
  },
  {
   "cell_type": "code",
   "execution_count": null,
   "metadata": {},
   "outputs": [],
   "source": []
  },
  {
   "cell_type": "code",
   "execution_count": null,
   "metadata": {},
   "outputs": [],
   "source": []
  },
  {
   "cell_type": "code",
   "execution_count": null,
   "metadata": {},
   "outputs": [],
   "source": []
  },
  {
   "cell_type": "markdown",
   "metadata": {},
   "source": [
    "Evaluating the ANN "
   ]
  },
  {
   "cell_type": "markdown",
   "metadata": {},
   "source": [
    "We trained our ANN twice, and obtained a different accuracy .This takes us to the bias variance trade off where the model we are trying to train a model which is not only accurate but also doesnt have much variance in the Accuracies that we obtain after training it several times\n"
   ]
  },
  {
   "cell_type": "code",
   "execution_count": 51,
   "metadata": {},
   "outputs": [],
   "source": [
    "#hen we perform a same model in 2 different Test sets, we can get completely different accuracies, so we would not know which one to use."
   ]
  },
  {
   "cell_type": "code",
   "execution_count": 52,
   "metadata": {},
   "outputs": [],
   "source": [
    "#We can use K-fold Validation for the same. This will give us better idea of the Accuracy."
   ]
  },
  {
   "cell_type": "code",
   "execution_count": null,
   "metadata": {},
   "outputs": [],
   "source": []
  },
  {
   "cell_type": "code",
   "execution_count": null,
   "metadata": {},
   "outputs": [],
   "source": []
  },
  {
   "cell_type": "code",
   "execution_count": 53,
   "metadata": {},
   "outputs": [],
   "source": [
    "#Evaluate ANN. Implement k-fold..."
   ]
  },
  {
   "cell_type": "code",
   "execution_count": 54,
   "metadata": {},
   "outputs": [],
   "source": [
    "#we used Keras for implementing classification and K-flod is a sklearn module."
   ]
  },
  {
   "cell_type": "code",
   "execution_count": 55,
   "metadata": {},
   "outputs": [],
   "source": [
    "#We will be able to include our k-fold validation in our Keras classifier. We will use Keras wrapper for the same."
   ]
  },
  {
   "cell_type": "code",
   "execution_count": 56,
   "metadata": {},
   "outputs": [],
   "source": [
    "from keras.wrappers.scikit_learn import KerasClassifier"
   ]
  },
  {
   "cell_type": "code",
   "execution_count": 57,
   "metadata": {},
   "outputs": [],
   "source": [
    "from sklearn.model_selection import cross_val_score"
   ]
  },
  {
   "cell_type": "code",
   "execution_count": 58,
   "metadata": {},
   "outputs": [],
   "source": [
    "def build_classifier():\n",
    "    classifier=Sequential()\n",
    "    classifier.add(Dense(output_dim=6,init='uniform',activation='relu',input_dim=11))\n",
    "    classifier.add(Dense(output_dim=6,init='uniform',activation='relu'))\n",
    "    classifier.add(Dense(output_dim=1,init='uniform',activation='sigmoid'))\n",
    "    classifier.compile(optimizer='adam',loss='binary_crossentropy',metrics=['accuracy'])\n",
    "    return classifier"
   ]
  },
  {
   "cell_type": "code",
   "execution_count": null,
   "metadata": {},
   "outputs": [],
   "source": []
  },
  {
   "cell_type": "code",
   "execution_count": 59,
   "metadata": {},
   "outputs": [
    {
     "name": "stderr",
     "output_type": "stream",
     "text": [
      "C:\\Users\\LaKgos01\\Anaconda3\\lib\\site-packages\\ipykernel_launcher.py:3: UserWarning: Update your `Dense` call to the Keras 2 API: `Dense(activation=\"relu\", input_dim=11, units=6, kernel_initializer=\"uniform\")`\n",
      "  This is separate from the ipykernel package so we can avoid doing imports until\n",
      "C:\\Users\\LaKgos01\\Anaconda3\\lib\\site-packages\\ipykernel_launcher.py:4: UserWarning: Update your `Dense` call to the Keras 2 API: `Dense(activation=\"relu\", units=6, kernel_initializer=\"uniform\")`\n",
      "  after removing the cwd from sys.path.\n",
      "C:\\Users\\LaKgos01\\Anaconda3\\lib\\site-packages\\ipykernel_launcher.py:5: UserWarning: Update your `Dense` call to the Keras 2 API: `Dense(activation=\"sigmoid\", units=1, kernel_initializer=\"uniform\")`\n",
      "  \"\"\"\n"
     ]
    }
   ],
   "source": [
    "global_classifier=build_classifier()"
   ]
  },
  {
   "cell_type": "code",
   "execution_count": 60,
   "metadata": {},
   "outputs": [],
   "source": [
    "classifier_kfold=KerasClassifier(build_fn=build_classifier,batch_size=19,nb_epoch=100)\n",
    "accuracies=cross_val_score(estimator=classifier_kfold,X=X_train, y=y_train,cv=10,n_jobs=-1)"
   ]
  },
  {
   "cell_type": "code",
   "execution_count": 61,
   "metadata": {},
   "outputs": [
    {
     "data": {
      "text/plain": [
       "array([0.78625   , 0.79000002, 0.80000001, 0.78250003, 0.81625003,\n",
       "       0.81      , 0.78750002, 0.79374999, 0.79874998, 0.79500002])"
      ]
     },
     "execution_count": 61,
     "metadata": {},
     "output_type": "execute_result"
    }
   ],
   "source": [
    "accuracies"
   ]
  },
  {
   "cell_type": "code",
   "execution_count": 62,
   "metadata": {},
   "outputs": [
    {
     "data": {
      "text/plain": [
       "0.7960000097751617"
      ]
     },
     "execution_count": 62,
     "metadata": {},
     "output_type": "execute_result"
    }
   ],
   "source": [
    "accuracies.mean()"
   ]
  },
  {
   "cell_type": "code",
   "execution_count": 63,
   "metadata": {},
   "outputs": [
    {
     "data": {
      "text/plain": [
       "0.0001021249810459679"
      ]
     },
     "execution_count": 63,
     "metadata": {},
     "output_type": "execute_result"
    }
   ],
   "source": [
    "accuracies.var()"
   ]
  },
  {
   "cell_type": "code",
   "execution_count": null,
   "metadata": {},
   "outputs": [],
   "source": []
  },
  {
   "cell_type": "code",
   "execution_count": null,
   "metadata": {},
   "outputs": [],
   "source": []
  },
  {
   "cell_type": "code",
   "execution_count": 64,
   "metadata": {},
   "outputs": [],
   "source": [
    "#Dropout Reularization- Solution for over fitting(we can notice this when we have large difference in accuracies in the Test set and the training set) in Deep learning....Overfitting can also be caught with High-Variance"
   ]
  },
  {
   "cell_type": "code",
   "execution_count": 65,
   "metadata": {},
   "outputs": [],
   "source": [
    "#At each iteration of the training, some neurons are randomly disabled, to prevent them from being too dependent while training....."
   ]
  },
  {
   "cell_type": "code",
   "execution_count": 66,
   "metadata": {},
   "outputs": [],
   "source": [
    "from keras.layers import Dropout #We apply dropout to layers"
   ]
  },
  {
   "cell_type": "code",
   "execution_count": 67,
   "metadata": {},
   "outputs": [
    {
     "name": "stderr",
     "output_type": "stream",
     "text": [
      "C:\\Users\\LaKgos01\\Anaconda3\\lib\\site-packages\\ipykernel_launcher.py:1: UserWarning: Update your `Dropout` call to the Keras 2 API: `Dropout(rate=0.1)`\n",
      "  \"\"\"Entry point for launching an IPython kernel.\n"
     ]
    }
   ],
   "source": [
    "classifier.add(Dropout(p=0.1))"
   ]
  },
  {
   "cell_type": "code",
   "execution_count": 68,
   "metadata": {},
   "outputs": [],
   "source": [
    "def build_classifier():\n",
    "    classifier=Sequential()\n",
    "    classifier.add(Dense(output_dim=6,init='uniform',activation='relu',input_dim=11))\n",
    "    classifier.add(Dropout(p=0.1))\n",
    "    \n",
    "    \n",
    "    classifier.add(Dense(output_dim=6,init='uniform',activation='relu'))\n",
    "    classifier.add(Dropout(p=0.1))\n",
    "    \n",
    "    classifier.add(Dense(output_dim=1,init='uniform',activation='sigmoid'))\n",
    "    classifier.compile(optimizer='adam',loss='binary_crossentropy',metrics=['accuracy'])\n",
    "    return classifier"
   ]
  },
  {
   "cell_type": "code",
   "execution_count": 69,
   "metadata": {},
   "outputs": [],
   "source": [
    "classifier_kfold=KerasClassifier(build_fn=build_classifier,batch_size=19,nb_epoch=100)\n",
    "accuracies=cross_val_score(estimator=classifier_kfold,X=X_train, y=y_train,cv=10,n_jobs=-1)"
   ]
  },
  {
   "cell_type": "code",
   "execution_count": 71,
   "metadata": {},
   "outputs": [
    {
     "data": {
      "text/plain": [
       "array([0.78625   , 0.79000002, 0.80000001, 0.78250003, 0.81625003,\n",
       "       0.81      , 0.78750002, 0.79374999, 0.79874998, 0.79500002])"
      ]
     },
     "execution_count": 71,
     "metadata": {},
     "output_type": "execute_result"
    }
   ],
   "source": [
    "accuracies"
   ]
  },
  {
   "cell_type": "code",
   "execution_count": 72,
   "metadata": {},
   "outputs": [
    {
     "data": {
      "text/plain": [
       "0.7960000097751617"
      ]
     },
     "execution_count": 72,
     "metadata": {},
     "output_type": "execute_result"
    }
   ],
   "source": [
    "accuracies.mean()"
   ]
  },
  {
   "cell_type": "code",
   "execution_count": null,
   "metadata": {},
   "outputs": [],
   "source": []
  },
  {
   "cell_type": "code",
   "execution_count": null,
   "metadata": {},
   "outputs": [],
   "source": []
  },
  {
   "cell_type": "markdown",
   "metadata": {},
   "source": [
    "Tuning the ANN"
   ]
  },
  {
   "cell_type": "code",
   "execution_count": 74,
   "metadata": {},
   "outputs": [],
   "source": [
    "#We have 2 type of parameters- weights(changed) and the ones, which are fixed- Like npo. of neurons, the no. of Epochs., etc.."
   ]
  },
  {
   "cell_type": "code",
   "execution_count": 75,
   "metadata": {},
   "outputs": [],
   "source": [
    "#Parameter tuning consists of finding the appropriate values for these parameter- We are going to do this with a Technique called Grid Search"
   ]
  },
  {
   "cell_type": "code",
   "execution_count": 76,
   "metadata": {},
   "outputs": [],
   "source": [
    "#We will use the KerasClassifier library itself for implementing Grid Search"
   ]
  },
  {
   "cell_type": "code",
   "execution_count": null,
   "metadata": {},
   "outputs": [],
   "source": []
  },
  {
   "cell_type": "code",
   "execution_count": 77,
   "metadata": {},
   "outputs": [],
   "source": [
    "from sklearn.model_selection import GridSearchCV"
   ]
  },
  {
   "cell_type": "code",
   "execution_count": null,
   "metadata": {},
   "outputs": [],
   "source": []
  },
  {
   "cell_type": "code",
   "execution_count": 80,
   "metadata": {},
   "outputs": [],
   "source": [
    "def build_classifier(optimizer):\n",
    "    classifier=Sequential()\n",
    "    classifier.add(Dense(output_dim=6,init='uniform',activation='relu',input_dim=11))\n",
    "    classifier.add(Dense(output_dim=6,init='uniform',activation='relu'))\n",
    "    classifier.add(Dense(output_dim=1,init='uniform',activation='sigmoid'))\n",
    "    classifier.compile(optimizer=optimizer,loss='binary_crossentropy',metrics=['accuracy'])\n",
    "    return classifier"
   ]
  },
  {
   "cell_type": "code",
   "execution_count": 85,
   "metadata": {},
   "outputs": [
    {
     "name": "stderr",
     "output_type": "stream",
     "text": [
      "C:\\Users\\LaKgos01\\Anaconda3\\lib\\site-packages\\ipykernel_launcher.py:3: UserWarning: Update your `Dense` call to the Keras 2 API: `Dense(activation=\"relu\", input_dim=11, units=6, kernel_initializer=\"uniform\")`\n",
      "  This is separate from the ipykernel package so we can avoid doing imports until\n",
      "C:\\Users\\LaKgos01\\Anaconda3\\lib\\site-packages\\ipykernel_launcher.py:4: UserWarning: Update your `Dense` call to the Keras 2 API: `Dense(activation=\"relu\", units=6, kernel_initializer=\"uniform\")`\n",
      "  after removing the cwd from sys.path.\n",
      "C:\\Users\\LaKgos01\\Anaconda3\\lib\\site-packages\\ipykernel_launcher.py:5: UserWarning: Update your `Dense` call to the Keras 2 API: `Dense(activation=\"sigmoid\", units=1, kernel_initializer=\"uniform\")`\n",
      "  \"\"\"\n"
     ]
    },
    {
     "name": "stdout",
     "output_type": "stream",
     "text": [
      "Epoch 1/1\n",
      "7200/7200 [==============================] - 1s 95us/step - loss: 0.5297 - accuracy: 0.7971\n",
      "Epoch 1/1\n",
      "7200/7200 [==============================] - 1s 80us/step - loss: 0.5306 - accuracy: 0.7967\n",
      "Epoch 1/1\n",
      "7200/7200 [==============================] - 1s 101us/step - loss: 0.5376 - accuracy: 0.7946\n",
      "Epoch 1/1\n",
      "7200/7200 [==============================] - 1s 86us/step - loss: 0.5257 - accuracy: 0.7969\n",
      "Epoch 1/1\n",
      "7200/7200 [==============================] - 1s 78us/step - loss: 0.5257 - accuracy: 0.7935\n",
      "Epoch 1/1\n",
      "7200/7200 [==============================] - 1s 109us/step - loss: 0.5381 - accuracy: 0.7939\n",
      "Epoch 1/1\n",
      "7200/7200 [==============================] - 1s 96us/step - loss: 0.5564 - accuracy: 0.7950\n",
      "Epoch 1/1\n",
      "7200/7200 [==============================] - 1s 78us/step - loss: 0.5296 - accuracy: 0.7958\n",
      "Epoch 1/1\n",
      "7200/7200 [==============================] - 1s 75us/step - loss: 0.5259 - accuracy: 0.7956\n",
      "Epoch 1/1\n",
      "7200/7200 [==============================] - 1s 77us/step - loss: 0.5534 - accuracy: 0.7957\n",
      "Epoch 1/1\n",
      "7200/7200 [==============================] - 0s 68us/step - loss: 0.5365 - accuracy: 0.7971\n",
      "Epoch 1/1\n",
      "7200/7200 [==============================] - 1s 73us/step - loss: 0.5672 - accuracy: 0.7956\n",
      "Epoch 1/1\n",
      "7200/7200 [==============================] - 1s 84us/step - loss: 0.5547 - accuracy: 0.7951\n",
      "Epoch 1/1\n",
      "7200/7200 [==============================] - 1s 77us/step - loss: 0.5472 - accuracy: 0.7976\n",
      "Epoch 1/1\n",
      "7200/7200 [==============================] - 1s 73us/step - loss: 0.5677 - accuracy: 0.7937\n",
      "Epoch 1/1\n",
      "7200/7200 [==============================] - 1s 73us/step - loss: 0.5805 - accuracy: 0.7925\n",
      "Epoch 1/1\n",
      "7200/7200 [==============================] - 1s 72us/step - loss: 0.5783 - accuracy: 0.7958\n",
      "Epoch 1/1\n",
      "7200/7200 [==============================] - 1s 74us/step - loss: 0.5796 - accuracy: 0.7949\n",
      "Epoch 1/1\n",
      "7200/7200 [==============================] - 1s 76us/step - loss: 0.5620 - accuracy: 0.7942\n",
      "Epoch 1/1\n",
      "7200/7200 [==============================] - 1s 125us/step - loss: 0.5392 - accuracy: 0.7961\n",
      "Epoch 1/1\n",
      "7200/7200 [==============================] - 1s 102us/step - loss: 0.5578 - accuracy: 0.7960\n",
      "Epoch 1/1\n",
      "7200/7200 [==============================] - 1s 82us/step - loss: 0.5277 - accuracy: 0.7956\n",
      "Epoch 1/1\n",
      "7200/7200 [==============================] - 1s 77us/step - loss: 0.5341 - accuracy: 0.7947\n",
      "Epoch 1/1\n",
      "7200/7200 [==============================] - 1s 104us/step - loss: 0.5474 - accuracy: 0.7961: 1s - loss: 0.\n",
      "Epoch 1/1\n",
      "7200/7200 [==============================] - 1s 82us/step - loss: 0.5535 - accuracy: 0.7928\n",
      "Epoch 1/1\n",
      "7200/7200 [==============================] - 1s 78us/step - loss: 0.5650 - accuracy: 0.7922\n",
      "Epoch 1/1\n",
      "7200/7200 [==============================] - 1s 96us/step - loss: 0.5392 - accuracy: 0.7957\n",
      "Epoch 1/1\n",
      "7200/7200 [==============================] - 1s 84us/step - loss: 0.5390 - accuracy: 0.7947\n",
      "Epoch 1/1\n",
      "7200/7200 [==============================] - 1s 81us/step - loss: 0.5749 - accuracy: 0.7949\n",
      "Epoch 1/1\n",
      "7200/7200 [==============================] - 1s 96us/step - loss: 0.5385 - accuracy: 0.7953\n",
      "Epoch 1/1\n",
      "7200/7200 [==============================] - 1s 93us/step - loss: 0.5543 - accuracy: 0.7967\n",
      "Epoch 1/1\n",
      "7200/7200 [==============================] - 1s 78us/step - loss: 0.5849 - accuracy: 0.7947\n",
      "Epoch 1/1\n",
      "7200/7200 [==============================] - 0s 67us/step - loss: 0.5508 - accuracy: 0.7950\n",
      "Epoch 1/1\n",
      "7200/7200 [==============================] - 0s 67us/step - loss: 0.5825 - accuracy: 0.7961\n",
      "Epoch 1/1\n",
      "7200/7200 [==============================] - 1s 70us/step - loss: 0.5862 - accuracy: 0.7932\n",
      "Epoch 1/1\n",
      "7200/7200 [==============================] - 1s 77us/step - loss: 0.5764 - accuracy: 0.7928\n",
      "Epoch 1/1\n",
      "7200/7200 [==============================] - 1s 75us/step - loss: 0.5504 - accuracy: 0.7964\n",
      "Epoch 1/1\n",
      "7200/7200 [==============================] - 1s 72us/step - loss: 0.5553 - accuracy: 0.7957\n",
      "Epoch 1/1\n",
      "7200/7200 [==============================] - 1s 72us/step - loss: 0.5559 - accuracy: 0.7954\n",
      "Epoch 1/1\n",
      "7200/7200 [==============================] - 0s 69us/step - loss: 0.5623 - accuracy: 0.7960\n",
      "Epoch 1/1\n",
      "7200/7200 [==============================] - 1s 79us/step - loss: 0.5307 - accuracy: 0.7951\n",
      "Epoch 1/1\n",
      "7200/7200 [==============================] - 1s 74us/step - loss: 0.5245 - accuracy: 0.7961\n",
      "Epoch 1/1\n",
      "7200/7200 [==============================] - 1s 71us/step - loss: 0.5401 - accuracy: 0.7943\n",
      "Epoch 1/1\n",
      "7200/7200 [==============================] - 1s 104us/step - loss: 0.5217 - accuracy: 0.7975\n",
      "Epoch 1/1\n",
      "7200/7200 [==============================] - 1s 79us/step - loss: 0.5390 - accuracy: 0.7933\n",
      "Epoch 1/1\n",
      "7200/7200 [==============================] - 1s 77us/step - loss: 0.5443 - accuracy: 0.7942\n",
      "Epoch 1/1\n",
      "7200/7200 [==============================] - 1s 86us/step - loss: 0.5564 - accuracy: 0.7957\n",
      "Epoch 1/1\n",
      "7200/7200 [==============================] - 1s 102us/step - loss: 0.5315 - accuracy: 0.7942\n",
      "Epoch 1/1\n",
      "7200/7200 [==============================] - 1s 77us/step - loss: 0.5340 - accuracy: 0.7950\n",
      "Epoch 1/1\n",
      "7200/7200 [==============================] - 1s 80us/step - loss: 0.5562 - accuracy: 0.7933\n",
      "Epoch 1/1\n",
      "7200/7200 [==============================] - 1s 71us/step - loss: 0.5545 - accuracy: 0.7967\n",
      "Epoch 1/1\n",
      "7200/7200 [==============================] - 1s 72us/step - loss: 0.5592 - accuracy: 0.7958\n",
      "Epoch 1/1\n",
      "7200/7200 [==============================] - 0s 68us/step - loss: 0.5540 - accuracy: 0.7953\n",
      "Epoch 1/1\n",
      "7200/7200 [==============================] - 1s 70us/step - loss: 0.5506 - accuracy: 0.7967\n",
      "Epoch 1/1\n",
      "7200/7200 [==============================] - 0s 65us/step - loss: 0.5820 - accuracy: 0.7918\n",
      "Epoch 1/1\n",
      "7200/7200 [==============================] - 0s 67us/step - loss: 0.5431 - accuracy: 0.7944\n",
      "Epoch 1/1\n",
      "7200/7200 [==============================] - 1s 104us/step - loss: 0.5812 - accuracy: 0.7956\n",
      "Epoch 1/1\n",
      "7200/7200 [==============================] - 1s 70us/step - loss: 0.5628 - accuracy: 0.7951\n",
      "Epoch 1/1\n",
      "7200/7200 [==============================] - 0s 69us/step - loss: 0.5748 - accuracy: 0.7940\n",
      "Epoch 1/1\n",
      "7200/7200 [==============================] - 1s 71us/step - loss: 0.6029 - accuracy: 0.7947\n",
      "Epoch 1/1\n",
      "7200/7200 [==============================] - 0s 56us/step - loss: 0.5796 - accuracy: 0.7971\n",
      "Epoch 1/1\n",
      "7200/7200 [==============================] - 0s 58us/step - loss: 0.5808 - accuracy: 0.7956\n",
      "Epoch 1/1\n",
      "7200/7200 [==============================] - 0s 56us/step - loss: 0.5728 - accuracy: 0.7947\n",
      "Epoch 1/1\n",
      "7200/7200 [==============================] - ETA: 0s - loss: 0.5862 - accuracy: 0.79 - 0s 56us/step - loss: 0.5705 - accuracy: 0.7957\n",
      "Epoch 1/1\n",
      "7200/7200 [==============================] - 0s 58us/step - loss: 0.5868 - accuracy: 0.7933\n",
      "Epoch 1/1\n",
      "7200/7200 [==============================] - 0s 56us/step - loss: 0.5687 - accuracy: 0.7944\n",
      "Epoch 1/1\n",
      "7200/7200 [==============================] - 0s 58us/step - loss: 0.5746 - accuracy: 0.7961\n",
      "Epoch 1/1\n",
      "7200/7200 [==============================] - 0s 55us/step - loss: 0.6606 - accuracy: 0.7940\n",
      "Epoch 1/1\n",
      "7200/7200 [==============================] - 0s 55us/step - loss: 0.5801 - accuracy: 0.7946\n",
      "Epoch 1/1\n",
      "7200/7200 [==============================] - 0s 55us/step - loss: 0.5827 - accuracy: 0.7949\n",
      "Epoch 1/1\n",
      "7200/7200 [==============================] - 1s 75us/step - loss: 0.5883 - accuracy: 0.7956\n",
      "Epoch 1/1\n",
      "7200/7200 [==============================] - 0s 52us/step - loss: 0.5908 - accuracy: 0.7962\n",
      "Epoch 1/1\n",
      "7200/7200 [==============================] - 0s 52us/step - loss: 0.5896 - accuracy: 0.7944\n",
      "Epoch 1/1\n",
      "7200/7200 [==============================] - 0s 51us/step - loss: 0.6342 - accuracy: 0.7951\n",
      "Epoch 1/1\n",
      "7200/7200 [==============================] - 0s 51us/step - loss: 0.6054 - accuracy: 0.7929\n",
      "Epoch 1/1\n",
      "7200/7200 [==============================] - 0s 52us/step - loss: 0.6151 - accuracy: 0.7926\n",
      "Epoch 1/1\n",
      "7200/7200 [==============================] - 0s 51us/step - loss: 0.6210 - accuracy: 0.7946\n",
      "Epoch 1/1\n",
      "7200/7200 [==============================] - 0s 51us/step - loss: 0.5865 - accuracy: 0.7962\n",
      "Epoch 1/1\n",
      "7200/7200 [==============================] - 0s 52us/step - loss: 0.6072 - accuracy: 0.7939\n",
      "Epoch 1/1\n"
     ]
    },
    {
     "name": "stdout",
     "output_type": "stream",
     "text": [
      "7200/7200 [==============================] - 0s 56us/step - loss: 0.5898 - accuracy: 0.7958\n",
      "Epoch 1/1\n",
      "7200/7200 [==============================] - 0s 62us/step - loss: 0.6092 - accuracy: 0.7950\n",
      "Epoch 1/1\n",
      "7200/7200 [==============================] - 0s 55us/step - loss: 0.5976 - accuracy: 0.7960\n",
      "Epoch 1/1\n",
      "7200/7200 [==============================] - 0s 55us/step - loss: 0.6022 - accuracy: 0.7928\n",
      "Epoch 1/1\n",
      "7200/7200 [==============================] - 0s 54us/step - loss: 0.5796 - accuracy: 0.7974\n",
      "Epoch 1/1\n",
      "7200/7200 [==============================] - 0s 66us/step - loss: 0.5599 - accuracy: 0.7939\n",
      "Epoch 1/1\n",
      "7200/7200 [==============================] - 0s 58us/step - loss: 0.5712 - accuracy: 0.7946\n",
      "Epoch 1/1\n",
      "7200/7200 [==============================] - 0s 58us/step - loss: 0.6128 - accuracy: 0.7951\n",
      "Epoch 1/1\n",
      "7200/7200 [==============================] - 0s 55us/step - loss: 0.5960 - accuracy: 0.7956\n",
      "Epoch 1/1\n",
      "7200/7200 [==============================] - 0s 54us/step - loss: 0.5823 - accuracy: 0.7953\n",
      "Epoch 1/1\n",
      "7200/7200 [==============================] - 0s 55us/step - loss: 0.5851 - accuracy: 0.7939\n",
      "Epoch 1/1\n",
      "7200/7200 [==============================] - 0s 48us/step - loss: 0.5893 - accuracy: 0.7962\n",
      "Epoch 1/1\n",
      "7200/7200 [==============================] - 0s 48us/step - loss: 0.6247 - accuracy: 0.7950\n",
      "Epoch 1/1\n",
      "7200/7200 [==============================] - 0s 48us/step - loss: 0.5927 - accuracy: 0.7956\n",
      "Epoch 1/1\n",
      "7200/7200 [==============================] - 0s 48us/step - loss: 0.5918 - accuracy: 0.7958\n",
      "Epoch 1/1\n",
      "7200/7200 [==============================] - 0s 48us/step - loss: 0.6180 - accuracy: 0.7921\n",
      "Epoch 1/1\n",
      "7200/7200 [==============================] - 0s 48us/step - loss: 0.5757 - accuracy: 0.7935\n",
      "Epoch 1/1\n",
      "7200/7200 [==============================] - 0s 48us/step - loss: 0.5902 - accuracy: 0.7961\n",
      "Epoch 1/1\n",
      "7200/7200 [==============================] - 0s 46us/step - loss: 0.6382 - accuracy: 0.7956\n",
      "Epoch 1/1\n",
      "7200/7200 [==============================] - 0s 47us/step - loss: 0.6009 - accuracy: 0.7943\n",
      "Epoch 1/1\n",
      "7200/7200 [==============================] - 0s 48us/step - loss: 0.5923 - accuracy: 0.7962\n",
      "Epoch 1/1\n",
      "7200/7200 [==============================] - 1s 89us/step - loss: 0.6053 - accuracy: 0.7957\n",
      "Epoch 1/1\n",
      "7200/7200 [==============================] - 0s 62us/step - loss: 0.5975 - accuracy: 0.7936\n",
      "Epoch 1/1\n",
      "7200/7200 [==============================] - 0s 53us/step - loss: 0.5803 - accuracy: 0.7933\n",
      "Epoch 1/1\n",
      "7200/7200 [==============================] - 0s 54us/step - loss: 0.5839 - accuracy: 0.7957\n",
      "Epoch 1/1\n",
      "7200/7200 [==============================] - 0s 54us/step - loss: 0.5667 - accuracy: 0.7936\n",
      "Epoch 1/1\n",
      "7200/7200 [==============================] - 0s 53us/step - loss: 0.5843 - accuracy: 0.7928\n",
      "Epoch 1/1\n",
      "7200/7200 [==============================] - 0s 54us/step - loss: 0.5890 - accuracy: 0.7946\n",
      "Epoch 1/1\n",
      "7200/7200 [==============================] - 0s 53us/step - loss: 0.5860 - accuracy: 0.7956\n",
      "Epoch 1/1\n",
      "7200/7200 [==============================] - 0s 54us/step - loss: 0.5806 - accuracy: 0.7937\n",
      "Epoch 1/1\n",
      "7200/7200 [==============================] - 0s 53us/step - loss: 0.5882 - accuracy: 0.7960\n",
      "Epoch 1/1\n",
      "7200/7200 [==============================] - 0s 47us/step - loss: 0.5882 - accuracy: 0.7969\n",
      "Epoch 1/1\n",
      "7200/7200 [==============================] - 0s 49us/step - loss: 0.5954 - accuracy: 0.7965\n",
      "Epoch 1/1\n",
      "7200/7200 [==============================] - 0s 49us/step - loss: 0.6387 - accuracy: 0.7946\n",
      "Epoch 1/1\n",
      "7200/7200 [==============================] - 0s 49us/step - loss: 0.5906 - accuracy: 0.7954\n",
      "Epoch 1/1\n",
      "7200/7200 [==============================] - 1s 71us/step - loss: 0.5993 - accuracy: 0.7936\n",
      "Epoch 1/1\n",
      "7200/7200 [==============================] - 0s 49us/step - loss: 0.5822 - accuracy: 0.7937\n",
      "Epoch 1/1\n",
      "7200/7200 [==============================] - 0s 50us/step - loss: 0.5719 - accuracy: 0.7969\n",
      "Epoch 1/1\n",
      "7200/7200 [==============================] - 0s 48us/step - loss: 0.6050 - accuracy: 0.7960\n",
      "Epoch 1/1\n",
      "7200/7200 [==============================] - 0s 48us/step - loss: 0.6425 - accuracy: 0.7939\n",
      "Epoch 1/1\n",
      "7200/7200 [==============================] - 0s 49us/step - loss: 0.6109 - accuracy: 0.7946\n",
      "Epoch 1/1\n",
      "8000/8000 [==============================] - 1s 74us/step - loss: 0.5385 - accuracy: 0.7955\n"
     ]
    },
    {
     "ename": "AttributeError",
     "evalue": "'GridSearchCV' object has no attribute 'best_parameter'",
     "output_type": "error",
     "traceback": [
      "\u001b[1;31m---------------------------------------------------------------------------\u001b[0m",
      "\u001b[1;31mAttributeError\u001b[0m                            Traceback (most recent call last)",
      "\u001b[1;32m<ipython-input-85-6d82f053a942>\u001b[0m in \u001b[0;36m<module>\u001b[1;34m\u001b[0m\n\u001b[0;32m      8\u001b[0m \u001b[1;33m\u001b[0m\u001b[0m\n\u001b[0;32m      9\u001b[0m \u001b[0mgrid_search\u001b[0m\u001b[1;33m=\u001b[0m\u001b[0mgrid_search\u001b[0m\u001b[1;33m.\u001b[0m\u001b[0mfit\u001b[0m\u001b[1;33m(\u001b[0m\u001b[0mX_train\u001b[0m\u001b[1;33m,\u001b[0m\u001b[0my_train\u001b[0m\u001b[1;33m)\u001b[0m\u001b[1;33m\u001b[0m\u001b[1;33m\u001b[0m\u001b[0m\n\u001b[1;32m---> 10\u001b[1;33m \u001b[0mbest_parameters\u001b[0m\u001b[1;33m=\u001b[0m\u001b[0mgrid_search\u001b[0m\u001b[1;33m.\u001b[0m\u001b[0mbest_parameter\u001b[0m\u001b[1;33m\u001b[0m\u001b[1;33m\u001b[0m\u001b[0m\n\u001b[0m\u001b[0;32m     11\u001b[0m \u001b[0mbest_accuracy\u001b[0m\u001b[1;33m=\u001b[0m\u001b[0mgrid_search\u001b[0m\u001b[1;33m.\u001b[0m\u001b[0mbest_accuracy\u001b[0m\u001b[1;33m\u001b[0m\u001b[1;33m\u001b[0m\u001b[0m\n",
      "\u001b[1;31mAttributeError\u001b[0m: 'GridSearchCV' object has no attribute 'best_parameter'"
     ]
    }
   ],
   "source": [
    "classifier_GridSearch=KerasClassifier(build_fn=build_classifier#we are going ot tune the epoch and nodes and will include it in the GridSearch\n",
    "parameters={'batch_size':[20,30],\n",
    "            'nb_epoch':[50,100,200],\n",
    "           'optimizer':['adam','rmsprop']}\n",
    "\n",
    "grid_search=GridSearchCV(estimator=classifier_GridSearch,param_grid=parameters,scoring='accuracy',cv=10)\n",
    "#accuracies=cross_val_score(estimator=classifier_kfold,X=X_train, y=y_train,cv=10,n_jobs=-1)\n",
    "\n",
    "grid_search=grid_search.fit(X_train,y_train)\n",
    "best_parameters=grid_search.best_parameters\n",
    "best_accuracy=grid_search.best_accuracy"
   ]
  },
  {
   "cell_type": "code",
   "execution_count": 87,
   "metadata": {},
   "outputs": [
    {
     "ename": "NameError",
     "evalue": "name 'best_accuracy' is not defined",
     "output_type": "error",
     "traceback": [
      "\u001b[1;31m---------------------------------------------------------------------------\u001b[0m",
      "\u001b[1;31mNameError\u001b[0m                                 Traceback (most recent call last)",
      "\u001b[1;32m<ipython-input-87-c48f70b1d8fb>\u001b[0m in \u001b[0;36m<module>\u001b[1;34m\u001b[0m\n\u001b[1;32m----> 1\u001b[1;33m \u001b[0mbest_accuracy\u001b[0m\u001b[1;33m\u001b[0m\u001b[1;33m\u001b[0m\u001b[0m\n\u001b[0m",
      "\u001b[1;31mNameError\u001b[0m: name 'best_accuracy' is not defined"
     ]
    }
   ],
   "source": [
    "best_accuracy"
   ]
  },
  {
   "cell_type": "code",
   "execution_count": null,
   "metadata": {},
   "outputs": [],
   "source": []
  }
 ],
 "metadata": {
  "kernelspec": {
   "display_name": "Python 3",
   "language": "python",
   "name": "python3"
  },
  "language_info": {
   "codemirror_mode": {
    "name": "ipython",
    "version": 3
   },
   "file_extension": ".py",
   "mimetype": "text/x-python",
   "name": "python",
   "nbconvert_exporter": "python",
   "pygments_lexer": "ipython3",
   "version": "3.7.7"
  }
 },
 "nbformat": 4,
 "nbformat_minor": 4
}
